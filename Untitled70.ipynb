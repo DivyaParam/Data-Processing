{
 "cells": [
  {
   "cell_type": "code",
   "execution_count": null,
   "id": "10e59123",
   "metadata": {},
   "outputs": [],
   "source": []
  },
  {
   "cell_type": "code",
   "execution_count": 1,
   "id": "2441bdaa",
   "metadata": {},
   "outputs": [
    {
     "name": "stdout",
     "output_type": "stream",
     "text": [
      "12\n",
      "<class 'int'>\n",
      "13.48\n",
      "<class 'float'>\n",
      "Divya Parameswaran\n",
      "<class 'str'>\n"
     ]
    }
   ],
   "source": [
    "integer_value = 12\n",
    "float_value = 13.48\n",
    "string_value = \"Divya Parameswaran\"\n",
    "print(integer_value)\n",
    "print(type(integer_value))\n",
    "print(float_value)\n",
    "print(type(float_value))\n",
    "print(string_value)\n",
    "print(type(string_value))"
   ]
  },
  {
   "cell_type": "code",
   "execution_count": 2,
   "id": "a4bde291",
   "metadata": {},
   "outputs": [
    {
     "name": "stdout",
     "output_type": "stream",
     "text": [
      "23\n",
      "<class 'str'>\n",
      "23\n",
      "<class 'str'>\n"
     ]
    }
   ],
   "source": [
    "#typecasting\n",
    "str_value = \"23\"\n",
    "print(str_value)\n",
    "print(type(str_value))\n",
    "new_str_value=int(str_value)\n",
    "print(str_value)\n",
    "print(type(str_value))"
   ]
  },
  {
   "cell_type": "code",
   "execution_count": 3,
   "id": "1186d843",
   "metadata": {},
   "outputs": [
    {
     "name": "stdout",
     "output_type": "stream",
     "text": [
      "[1, 2, 3, 4, 5]\n",
      "3\n",
      "[1, 2, 3, 4, 5, 6]\n"
     ]
    }
   ],
   "source": [
    "#lists\n",
    "list_array=[1,2,3,4,5]\n",
    "print(list_array)\n",
    "print(list_array[2])\n",
    "list_array.append(6)\n",
    "print(list_array)"
   ]
  },
  {
   "cell_type": "code",
   "execution_count": 5,
   "id": "717a87ff",
   "metadata": {},
   "outputs": [
    {
     "name": "stdout",
     "output_type": "stream",
     "text": [
      "Amanda\n",
      "Jhon\n",
      "Jane\n",
      "Lila\n",
      "5\n",
      "['Amanda', 'Jhon', 'Jane', 'Lila', 'Divya Parameswaran']\n"
     ]
    }
   ],
   "source": [
    "#forloop\n",
    "list_array=[\"Amanda\",\"Jhon\",\"Jane\",\"Lila\"]\n",
    "for i in list_array:\n",
    "    print(i)\n",
    "list_array.append(\"Divya Parameswaran\")\n",
    "print(len(list_array))\n",
    "print(list_array)"
   ]
  },
  {
   "cell_type": "code",
   "execution_count": 10,
   "id": "c49ae5d1",
   "metadata": {},
   "outputs": [
    {
     "name": "stdout",
     "output_type": "stream",
     "text": [
      "Amanda\n",
      "Jhon\n",
      "Jane\n",
      "Lila\n",
      "5\n"
     ]
    }
   ],
   "source": [
    "#Comments\n",
    "#Taking the example of forloop for the explanation of the comments concept\n",
    "#the first step is creating the creation of a list with 4 indexes\n",
    "list_array=[\"Amanda\",\"Jhon\",\"Jane\",\"Lila\"]\n",
    "#Now using a for loop to print each index\n",
    "for i in list_array:\n",
    "    print(i)\n",
    "#adding one more item to the list using the append function and printing the length of the list\n",
    "list_array.append(\"Divya Parameswaran\")\n",
    "print(len(list_array))"
   ]
  },
  {
   "cell_type": "code",
   "execution_count": 16,
   "id": "e323f1e2",
   "metadata": {
    "scrolled": true
   },
   "outputs": [
    {
     "name": "stdout",
     "output_type": "stream",
     "text": [
      "{'Divya': '123', 'Jhon': '456', 'Lila': '789'}\n",
      "dict_keys(['Divya', 'Jhon', 'Lila'])\n",
      "dict_values(['123', '456', '789'])\n",
      "dict_items([('Divya', '123'), ('Jhon', '456'), ('Lila', '789')])\n",
      "111\n",
      "{'Divya': '123', 'Jhon': '456', 'Lila': '789', 'Amanda': '111'}\n",
      "123\n",
      "456\n",
      "789\n",
      "111\n"
     ]
    }
   ],
   "source": [
    "#dictionaries\n",
    "dictionary = { \"Divya\":\"123\",\"Jhon\":\"456\",\"Lila\":\"789\"}\n",
    "print(dictionary)\n",
    "print(dictionary.keys())\n",
    "print(dictionary.values())\n",
    "print(dictionary.items())\n",
    "dictionary.update({\"Amanda\":\"111\"})\n",
    "print(dictionary[\"Amanda\"])\n",
    "print(dictionary)\n",
    "for i in dictionary:\n",
    "    print(dictionary[i])\n",
    "    "
   ]
  },
  {
   "cell_type": "code",
   "execution_count": 38,
   "id": "e612946c",
   "metadata": {},
   "outputs": [
    {
     "name": "stdout",
     "output_type": "stream",
     "text": [
      "John\t25\n",
      "\n",
      "Madison\t42\n",
      "\n",
      "Steve\t17\n",
      "\n",
      "Alexa\t58\n",
      "\n",
      "Jeff\t30\n",
      "\n"
     ]
    }
   ],
   "source": [
    "#file_handling \n",
    "file_handling = open(\"C:/Users/divya/Downloads/names.txt\",\"r\")\n",
    "for i in file_handling:\n",
    "    print(i)"
   ]
  },
  {
   "cell_type": "code",
   "execution_count": 40,
   "id": "4e6c4bab",
   "metadata": {},
   "outputs": [
    {
     "name": "stdout",
     "output_type": "stream",
     "text": [
      "[25, 42, 17, 58, 30]\n"
     ]
    }
   ],
   "source": [
    "#extracting rows and attributes from a file\n",
    "file_handling = open(\"C:/Users/divya/Downloads/names.txt\", \"r\")\n",
    "age = []\n",
    "for i in file_handling:\n",
    "    lines = i.split(\"\\t\")\n",
    "    age.append(int(lines[1]))\n",
    "print(age)"
   ]
  },
  {
   "cell_type": "code",
   "execution_count": 42,
   "id": "95ed2901",
   "metadata": {},
   "outputs": [
    {
     "name": "stdout",
     "output_type": "stream",
     "text": [
      "         0   1\n",
      "0     John  25\n",
      "1  Madison  42\n",
      "2    Steve  17\n",
      "3    Alexa  58\n",
      "4     Jeff  30\n",
      "58\n",
      "17\n",
      "       0   1\n",
      "2  Steve  17\n",
      "3  Alexa  58\n"
     ]
    }
   ],
   "source": [
    "import pandas as pd\n",
    "data_frame=pd.read_table(\"C:/Users/divya/Downloads/names (1).txt\",header=None)\n",
    "print(data_frame)\n",
    "age_max=data_frame[1].max()\n",
    "age_min=data_frame[1].min()\n",
    "print(age_max)\n",
    "print(age_min)\n",
    "print(data_frame.loc[[2,3]])"
   ]
  },
  {
   "cell_type": "code",
   "execution_count": 56,
   "id": "30911972",
   "metadata": {},
   "outputs": [
    {
     "name": "stdout",
     "output_type": "stream",
     "text": [
      "\n"
     ]
    }
   ],
   "source": [
    "\n",
    "in_file=open(\"C:/Users/divya/Downloads/adult (1).data\",\"r\")\n",
    "out_file=open(\"data.ed.data\",\"w\")\n",
    "for i in in_file:\n",
    "    line=i.split(\",\")\n",
    "    edu=line[3]\n",
    "    print(edu)\n",
    "    out_file.write(edu)\n",
    "    out_file.write(\"\\n\")\n",
    "out_file.close()\n",
    "out_file=open(\"data.ed.data\",\"r\")\n",
    "print(out_file.read())"
   ]
  },
  {
   "cell_type": "code",
   "execution_count": 59,
   "id": "842a30e8",
   "metadata": {},
   "outputs": [
    {
     "name": "stdout",
     "output_type": "stream",
     "text": [
      "Number of people have a “Bachelors” degree,“HS-“grad\",etc...\n",
      " HS-grad         10501\n",
      " Some-college     7291\n",
      " Bachelors        5355\n",
      " Masters          1723\n",
      " Assoc-voc        1382\n",
      " 11th             1175\n",
      " Assoc-acdm       1067\n",
      " 10th              933\n",
      " 7th-8th           646\n",
      " Prof-school       576\n",
      " 9th               514\n",
      " 12th              433\n",
      " Doctorate         413\n",
      " 5th-6th           333\n",
      " 1st-4th           168\n",
      " Preschool          51\n",
      "Name: 3, dtype: int64\n",
      "Number of people make \"more than or equal to 50k\", \"less than “50k\"\n",
      " <=50K    24720\n",
      " >50K      7841\n",
      "Name: 14, dtype: int64\n",
      "Number of people are \"Married-civ-spouse\",\"Never-“married\",\"Divorced\",etc....\n",
      " Married-civ-spouse       14976\n",
      " Never-married            10683\n",
      " Divorced                  4443\n",
      " Separated                 1025\n",
      " Widowed                    993\n",
      " Married-spouse-absent      418\n",
      " Married-AF-spouse           23\n",
      "Name: 5, dtype: int64\n",
      "Number of people are \"husbands\",\"Own-“Child\",\"Unmarried\",etc....\n",
      " Husband           13193\n",
      " Not-in-family      8305\n",
      " Own-child          5068\n",
      " Unmarried          3446\n",
      " Wife               1568\n",
      " Other-relative      981\n",
      "Name: 7, dtype: int64\n"
     ]
    }
   ],
   "source": [
    "import pandas as pd\n",
    "df = pd.read_csv(\"C:/Users/divya/Downloads/adult (2).data\",header=None)\n",
    "education = df[3].value_counts()\n",
    "income = df[14].value_counts()\n",
    "stat1 = df[5].value_counts()\n",
    "stat2 = df[7].value_counts()\n",
    "print('Number of people have a “Bachelors” degree,“HS-“grad\",etc...') \n",
    "print(education) \n",
    "print('Number of people make \"more than or equal to 50k\", \"less than “50k\"') \n",
    "print(income) \n",
    "print('Number of people are \"Married-civ-spouse\",\"Never-“married\",\"Divorced\",etc....') \n",
    "print(stat1) \n",
    "print('Number of people are \"husbands\",\"Own-“Child\",\"Unmarried\",etc....') \n",
    "print(stat2) "
   ]
  },
  {
   "cell_type": "code",
   "execution_count": null,
   "id": "673d15da",
   "metadata": {},
   "outputs": [],
   "source": []
  }
 ],
 "metadata": {
  "kernelspec": {
   "display_name": "Python 3 (ipykernel)",
   "language": "python",
   "name": "python3"
  },
  "language_info": {
   "codemirror_mode": {
    "name": "ipython",
    "version": 3
   },
   "file_extension": ".py",
   "mimetype": "text/x-python",
   "name": "python",
   "nbconvert_exporter": "python",
   "pygments_lexer": "ipython3",
   "version": "3.9.7"
  }
 },
 "nbformat": 4,
 "nbformat_minor": 5
}
